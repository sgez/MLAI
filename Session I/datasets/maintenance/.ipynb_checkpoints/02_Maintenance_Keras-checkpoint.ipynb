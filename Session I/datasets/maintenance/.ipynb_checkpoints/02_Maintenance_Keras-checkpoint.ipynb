{
 "cells": [
  {
   "cell_type": "code",
   "execution_count": 1,
   "metadata": {
    "_cell_guid": "525fe60a-393f-4170-b35f-0aba7b1a1553",
    "_uuid": "4b59681d2daa0d7ea8e2e9add8cccc2765bd30c5"
   },
   "outputs": [
    {
     "name": "stderr",
     "output_type": "stream",
     "text": [
      "/Users/sgez/bin/anaconda/lib/python3.6/site-packages/h5py/__init__.py:34: FutureWarning: Conversion of the second argument of issubdtype from `float` to `np.floating` is deprecated. In future, it will be treated as `np.float64 == np.dtype(float).type`.\n",
      "  from ._conv import register_converters as _register_converters\n",
      "Using TensorFlow backend.\n",
      "/Users/sgez/bin/anaconda/lib/python3.6/importlib/_bootstrap.py:219: RuntimeWarning: compiletime version 3.5 of module 'tensorflow.python.framework.fast_tensor_util' does not match runtime version 3.6\n",
      "  return f(*args, **kwds)\n"
     ]
    }
   ],
   "source": [
    "import pandas as pd               \n",
    "import numpy as np\n",
    "\n",
    "from keras.models import Sequential\n",
    "from keras.layers import Dense, Dropout, Activation\n",
    "from keras.optimizers import SGD"
   ]
  },
  {
   "cell_type": "code",
   "execution_count": 2,
   "metadata": {
    "_cell_guid": "c952d1c3-257a-4e3a-8cbb-c37b35252000",
    "_uuid": "17164d3feeb8414671f38af36f17142605c83bcb"
   },
   "outputs": [
    {
     "name": "stdout",
     "output_type": "stream",
     "text": [
      "(826, 6)\n",
      "(174, 6)\n"
     ]
    }
   ],
   "source": [
    "df_init = df = pd.read_csv('maintenance_data.csv')\n",
    "\n",
    "msk = np.random.rand(len(df)) < 0.8\n",
    "\n",
    "#Convert strings to discreat integers\n",
    "try:\n",
    "    df.replace('TeamA',1, inplace=True)\n",
    "    df.replace('TeamB',2, inplace=True)\n",
    "    df.replace('TeamC',3, inplace=True)\n",
    "    df.replace('Provider1',1, inplace=True)\n",
    "    df.replace('Provider2',2, inplace=True)\n",
    "    df.replace('Provider3',3, inplace=True)\n",
    "    df.replace('Provider4',4, inplace=True)\n",
    "except:\n",
    "    pass  \n",
    "Train = df[msk]\n",
    "Test = df[~msk]\n",
    "\n",
    "X_train = Train.drop('broken', axis=1).values\n",
    "Y_train = Train.broken.values[np.newaxis].T\n",
    "\n",
    "X_test = Test.drop('broken', axis=1).values\n",
    "Y_test = Test.broken.values[np.newaxis].T\n",
    "\n",
    "print(X_train.shape)\n",
    "print(X_test.shape)"
   ]
  },
  {
   "cell_type": "code",
   "execution_count": 3,
   "metadata": {
    "_cell_guid": "be679d17-e8c2-4d17-90f6-f0f98de72cb7",
    "_uuid": "fd94368a89fafab3cf206a76bb44c70b2cea46e2",
    "collapsed": true
   },
   "outputs": [],
   "source": [
    "model = Sequential()\n",
    "\n",
    "model.add(Dense(64, activation='relu', input_dim=6))\n",
    "model.add(Dropout(0.5))\n",
    "model.add(Dense(128, activation='relu'))\n",
    "model.add(Dropout(0.5))\n",
    "model.add(Dense(64, activation='relu'))\n",
    "model.add(Dropout(0.5))\n",
    "model.add(Dense(10, activation='softmax'))\n",
    "model.compile(optimizer='rmsprop',\n",
    "              loss='sparse_categorical_crossentropy',\n",
    "              metrics=['accuracy'])"
   ]
  },
  {
   "cell_type": "code",
   "execution_count": 4,
   "metadata": {
    "_cell_guid": "3ea47c98-f06f-46dd-9421-f861e2ca8219",
    "_uuid": "822b77e1a078d58c87069ce641f08ebbb3d2d446"
   },
   "outputs": [
    {
     "name": "stdout",
     "output_type": "stream",
     "text": [
      "Epoch 1/100\n",
      "826/826 [==============================] - 0s - loss: 7.4737 - acc: 0.5109     \n",
      "Epoch 2/100\n",
      "826/826 [==============================] - 0s - loss: 6.5688 - acc: 0.5835     \n",
      "Epoch 3/100\n",
      "826/826 [==============================] - 0s - loss: 6.2997 - acc: 0.6017     \n",
      "Epoch 4/100\n",
      "826/826 [==============================] - 0s - loss: 6.3763 - acc: 0.6017     \n",
      "Epoch 5/100\n",
      "826/826 [==============================] - 0s - loss: 6.2146 - acc: 0.6077     \n",
      "Epoch 6/100\n",
      "826/826 [==============================] - 0s - loss: 6.1693 - acc: 0.6041     \n",
      "Epoch 7/100\n",
      "826/826 [==============================] - 0s - loss: 6.2419 - acc: 0.5981     \n",
      "Epoch 8/100\n",
      "826/826 [==============================] - 0s - loss: 5.9770 - acc: 0.6114     \n",
      "Epoch 9/100\n",
      "826/826 [==============================] - 0s - loss: 6.0660 - acc: 0.6053     \n",
      "Epoch 10/100\n",
      "826/826 [==============================] - 0s - loss: 6.0679 - acc: 0.6005     \n",
      "Epoch 11/100\n",
      "826/826 [==============================] - 0s - loss: 6.0605 - acc: 0.5932     \n",
      "Epoch 12/100\n",
      "826/826 [==============================] - 0s - loss: 6.0976 - acc: 0.5969     \n",
      "Epoch 13/100\n",
      "826/826 [==============================] - 0s - loss: 6.0453 - acc: 0.6065     \n",
      "Epoch 14/100\n",
      "826/826 [==============================] - 0s - loss: 5.7588 - acc: 0.6150     \n",
      "Epoch 15/100\n",
      "826/826 [==============================] - 0s - loss: 6.0883 - acc: 0.5726     \n",
      "Epoch 16/100\n",
      "826/826 [==============================] - 0s - loss: 5.6948 - acc: 0.5944     \n",
      "Epoch 17/100\n",
      "826/826 [==============================] - 0s - loss: 5.6752 - acc: 0.6077     \n",
      "Epoch 18/100\n",
      "826/826 [==============================] - 0s - loss: 6.0333 - acc: 0.5908     \n",
      "Epoch 19/100\n",
      "826/826 [==============================] - 0s - loss: 6.0312 - acc: 0.6041     \n",
      "Epoch 20/100\n",
      "826/826 [==============================] - 0s - loss: 5.8912 - acc: 0.6053     \n",
      "Epoch 21/100\n",
      "826/826 [==============================] - 0s - loss: 5.1743 - acc: 0.6223     \n",
      "Epoch 22/100\n",
      "826/826 [==============================] - 0s - loss: 5.1118 - acc: 0.6029     \n",
      "Epoch 23/100\n",
      "826/826 [==============================] - 0s - loss: 4.7649 - acc: 0.6090     \n",
      "Epoch 24/100\n",
      "826/826 [==============================] - 0s - loss: 4.0069 - acc: 0.6404     \n",
      "Epoch 25/100\n",
      "826/826 [==============================] - 0s - loss: 3.2988 - acc: 0.6695     \n",
      "Epoch 26/100\n",
      "826/826 [==============================] - 0s - loss: 2.9900 - acc: 0.6719     \n",
      "Epoch 27/100\n",
      "826/826 [==============================] - 0s - loss: 2.2153 - acc: 0.7022     \n",
      "Epoch 28/100\n",
      "826/826 [==============================] - 0s - loss: 1.7996 - acc: 0.6877     \n",
      "Epoch 29/100\n",
      "826/826 [==============================] - 0s - loss: 1.3616 - acc: 0.6513     \n",
      "Epoch 30/100\n",
      "826/826 [==============================] - 0s - loss: 0.9896 - acc: 0.6864     \n",
      "Epoch 31/100\n",
      "826/826 [==============================] - 0s - loss: 0.7839 - acc: 0.6913     \n",
      "Epoch 32/100\n",
      "826/826 [==============================] - 0s - loss: 0.6673 - acc: 0.7300     \n",
      "Epoch 33/100\n",
      "826/826 [==============================] - 0s - loss: 0.6360 - acc: 0.7215     \n",
      "Epoch 34/100\n",
      "826/826 [==============================] - 0s - loss: 0.5234 - acc: 0.7663     \n",
      "Epoch 35/100\n",
      "826/826 [==============================] - 0s - loss: 0.5159 - acc: 0.7409     \n",
      "Epoch 36/100\n",
      "826/826 [==============================] - 0s - loss: 0.5215 - acc: 0.7446     \n",
      "Epoch 37/100\n",
      "826/826 [==============================] - 0s - loss: 0.4779 - acc: 0.7676     \n",
      "Epoch 38/100\n",
      "826/826 [==============================] - 0s - loss: 0.4617 - acc: 0.7893     \n",
      "Epoch 39/100\n",
      "826/826 [==============================] - 0s - loss: 0.4458 - acc: 0.7857     \n",
      "Epoch 40/100\n",
      "826/826 [==============================] - 0s - loss: 0.4561 - acc: 0.7772     \n",
      "Epoch 41/100\n",
      "826/826 [==============================] - 0s - loss: 0.4546 - acc: 0.7954     \n",
      "Epoch 42/100\n",
      "826/826 [==============================] - 0s - loss: 0.4158 - acc: 0.7918     \n",
      "Epoch 43/100\n",
      "826/826 [==============================] - 0s - loss: 0.4155 - acc: 0.7966     \n",
      "Epoch 44/100\n",
      "826/826 [==============================] - 0s - loss: 0.3943 - acc: 0.8039     \n",
      "Epoch 45/100\n",
      "826/826 [==============================] - 0s - loss: 0.4065 - acc: 0.8087     \n",
      "Epoch 46/100\n",
      "826/826 [==============================] - 0s - loss: 0.4158 - acc: 0.8027     \n",
      "Epoch 47/100\n",
      "826/826 [==============================] - 0s - loss: 0.4033 - acc: 0.8136     \n",
      "Epoch 48/100\n",
      "826/826 [==============================] - 0s - loss: 0.3776 - acc: 0.8111     \n",
      "Epoch 49/100\n",
      "826/826 [==============================] - 0s - loss: 0.3868 - acc: 0.8111     \n",
      "Epoch 50/100\n",
      "826/826 [==============================] - 0s - loss: 0.3940 - acc: 0.8123     \n",
      "Epoch 51/100\n",
      "826/826 [==============================] - 0s - loss: 0.3662 - acc: 0.8087     \n",
      "Epoch 52/100\n",
      "826/826 [==============================] - 0s - loss: 0.3628 - acc: 0.8269     \n",
      "Epoch 53/100\n",
      "826/826 [==============================] - 0s - loss: 0.3783 - acc: 0.8281     \n",
      "Epoch 54/100\n",
      "826/826 [==============================] - 0s - loss: 0.3785 - acc: 0.8111     \n",
      "Epoch 55/100\n",
      "826/826 [==============================] - 0s - loss: 0.3827 - acc: 0.8281     \n",
      "Epoch 56/100\n",
      "826/826 [==============================] - 0s - loss: 0.3722 - acc: 0.8172     \n",
      "Epoch 57/100\n",
      "826/826 [==============================] - 0s - loss: 0.3531 - acc: 0.8329     \n",
      "Epoch 58/100\n",
      "826/826 [==============================] - 0s - loss: 0.3697 - acc: 0.8245     \n",
      "Epoch 59/100\n",
      "826/826 [==============================] - 0s - loss: 0.3555 - acc: 0.8305     \n",
      "Epoch 60/100\n",
      "826/826 [==============================] - 0s - loss: 0.3726 - acc: 0.8426     \n",
      "Epoch 61/100\n",
      "826/826 [==============================] - 0s - loss: 0.3905 - acc: 0.8136     \n",
      "Epoch 62/100\n",
      "826/826 [==============================] - 0s - loss: 0.3473 - acc: 0.8305     \n",
      "Epoch 63/100\n",
      "826/826 [==============================] - 0s - loss: 0.3618 - acc: 0.8245     \n",
      "Epoch 64/100\n",
      "826/826 [==============================] - 0s - loss: 0.3523 - acc: 0.8390     \n",
      "Epoch 65/100\n",
      "826/826 [==============================] - 0s - loss: 0.3618 - acc: 0.8329     \n",
      "Epoch 66/100\n",
      "826/826 [==============================] - 0s - loss: 0.3497 - acc: 0.8257     \n",
      "Epoch 67/100\n",
      "826/826 [==============================] - 0s - loss: 0.3382 - acc: 0.8293     \n",
      "Epoch 68/100\n",
      "826/826 [==============================] - 0s - loss: 0.3707 - acc: 0.8293     \n",
      "Epoch 69/100\n",
      "826/826 [==============================] - 0s - loss: 0.3645 - acc: 0.8184     \n",
      "Epoch 70/100\n",
      "826/826 [==============================] - 0s - loss: 0.3377 - acc: 0.8366     \n",
      "Epoch 71/100\n",
      "826/826 [==============================] - 0s - loss: 0.3712 - acc: 0.8196     \n",
      "Epoch 72/100\n",
      "826/826 [==============================] - 0s - loss: 0.3793 - acc: 0.8184     \n",
      "Epoch 73/100\n",
      "826/826 [==============================] - 0s - loss: 0.3543 - acc: 0.8354     \n",
      "Epoch 74/100\n",
      "826/826 [==============================] - 0s - loss: 0.3516 - acc: 0.8293     \n",
      "Epoch 75/100\n",
      "826/826 [==============================] - 0s - loss: 0.3570 - acc: 0.8257     \n",
      "Epoch 76/100\n",
      "826/826 [==============================] - 0s - loss: 0.3557 - acc: 0.8257     \n",
      "Epoch 77/100\n",
      "826/826 [==============================] - 0s - loss: 0.3565 - acc: 0.8208     \n",
      "Epoch 78/100\n",
      "826/826 [==============================] - 0s - loss: 0.3578 - acc: 0.8438     \n",
      "Epoch 79/100\n",
      "826/826 [==============================] - 0s - loss: 0.3649 - acc: 0.8123     \n",
      "Epoch 80/100\n",
      "826/826 [==============================] - 0s - loss: 0.3398 - acc: 0.8390     \n",
      "Epoch 81/100\n",
      "826/826 [==============================] - 0s - loss: 0.3506 - acc: 0.8281     \n",
      "Epoch 82/100\n",
      "826/826 [==============================] - 0s - loss: 0.3467 - acc: 0.8414     \n",
      "Epoch 83/100\n",
      "826/826 [==============================] - 0s - loss: 0.3547 - acc: 0.8293     \n",
      "Epoch 84/100\n",
      "826/826 [==============================] - 0s - loss: 0.3496 - acc: 0.8305     \n",
      "Epoch 85/100\n",
      "826/826 [==============================] - 0s - loss: 0.3503 - acc: 0.8305     \n",
      "Epoch 86/100\n",
      "826/826 [==============================] - 0s - loss: 0.3634 - acc: 0.8269     \n",
      "Epoch 87/100\n",
      "826/826 [==============================] - 0s - loss: 0.3604 - acc: 0.8366     \n",
      "Epoch 88/100\n",
      "826/826 [==============================] - 0s - loss: 0.3413 - acc: 0.8450     \n",
      "Epoch 89/100\n"
     ]
    },
    {
     "name": "stdout",
     "output_type": "stream",
     "text": [
      "826/826 [==============================] - 0s - loss: 0.3690 - acc: 0.8196     \n",
      "Epoch 90/100\n",
      "826/826 [==============================] - 0s - loss: 0.3571 - acc: 0.8245     \n",
      "Epoch 91/100\n",
      "826/826 [==============================] - 0s - loss: 0.3608 - acc: 0.8305     \n",
      "Epoch 92/100\n",
      "826/826 [==============================] - 0s - loss: 0.3486 - acc: 0.8305     \n",
      "Epoch 93/100\n",
      "826/826 [==============================] - 0s - loss: 0.3475 - acc: 0.8559     \n",
      "Epoch 94/100\n",
      "826/826 [==============================] - 0s - loss: 0.3483 - acc: 0.8402     \n",
      "Epoch 95/100\n",
      "826/826 [==============================] - 0s - loss: 0.3432 - acc: 0.8281     \n",
      "Epoch 96/100\n",
      "826/826 [==============================] - 0s - loss: 0.3727 - acc: 0.8257     \n",
      "Epoch 97/100\n",
      "826/826 [==============================] - 0s - loss: 0.3493 - acc: 0.8269     \n",
      "Epoch 98/100\n",
      "826/826 [==============================] - 0s - loss: 0.3452 - acc: 0.8390     \n",
      "Epoch 99/100\n",
      "826/826 [==============================] - 0s - loss: 0.3552 - acc: 0.8390     \n",
      "Epoch 100/100\n",
      "826/826 [==============================] - 0s - loss: 0.3598 - acc: 0.8245     \n",
      "Finished!\n"
     ]
    }
   ],
   "source": [
    "model.fit(X_train, Y_train, epochs=100)\n",
    "print(\"Finished!\")"
   ]
  },
  {
   "cell_type": "code",
   "execution_count": 5,
   "metadata": {
    "_cell_guid": "d9d8afd9-2e57-4188-becd-f91a65a37fd1",
    "_uuid": "deb0afac6e2647cf2b72bacfb8027ea0c402ece0"
   },
   "outputs": [
    {
     "name": "stdout",
     "output_type": "stream",
     "text": [
      " 32/174 [====>.........................] - ETA: 0s['loss', 'acc']\n",
      "[0.326661202071727, 0.8333333319631117]\n"
     ]
    }
   ],
   "source": [
    "score = model.evaluate(X_test, Y_test)\n",
    "print(model.metrics_names)\n",
    "print(score)"
   ]
  },
  {
   "cell_type": "code",
   "execution_count": null,
   "metadata": {
    "_cell_guid": "0ab523af-671a-4c59-8fa6-50b364ab94cd",
    "_uuid": "cbb62c38ac4f401ac678e8da912d4e0ee323ee05",
    "collapsed": true
   },
   "outputs": [],
   "source": []
  },
  {
   "cell_type": "code",
   "execution_count": null,
   "metadata": {
    "_uuid": "0d58dd23c483f9b729442ef7232c31dd30ab0e43",
    "collapsed": true
   },
   "outputs": [],
   "source": []
  }
 ],
 "metadata": {
  "kernelspec": {
   "display_name": "Python 3",
   "language": "python",
   "name": "python3"
  },
  "language_info": {
   "codemirror_mode": {
    "name": "ipython",
    "version": 3
   },
   "file_extension": ".py",
   "mimetype": "text/x-python",
   "name": "python",
   "nbconvert_exporter": "python",
   "pygments_lexer": "ipython3",
   "version": "3.6.4"
  }
 },
 "nbformat": 4,
 "nbformat_minor": 1
}
